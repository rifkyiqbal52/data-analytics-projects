{
 "cells": [
  {
   "cell_type": "markdown",
   "id": "c9a32158",
   "metadata": {},
   "source": [
    "# MILESTONE PHASE 0\n",
    "\n",
    "Nama : Rifky Iqbal Algifari  \n",
    "Batch : CODA-RMT-007\n",
    "\n",
    "Dikarenakan banyaknya tren olahraga khususnya lari, maka melalui program ini ingin melihat penjualan Sepatu Lari di online store LAZADA.\n",
    "data yang diambil melalui web scrapping dengan melakukan pengambilan data hingga 10 slide\n",
    "\n",
    "---"
   ]
  },
  {
   "cell_type": "markdown",
   "id": "63732b14",
   "metadata": {},
   "source": [
    "A. Data ini diambil dari e-commerce LAZADA dengan melakukan pencarian produk yaitu Sepatu Lari."
   ]
  },
  {
   "cell_type": "code",
   "execution_count": null,
   "id": "97c90d1f",
   "metadata": {},
   "outputs": [
    {
     "data": {
      "text/html": [
       "<div>\n",
       "<style scoped>\n",
       "    .dataframe tbody tr th:only-of-type {\n",
       "        vertical-align: middle;\n",
       "    }\n",
       "\n",
       "    .dataframe tbody tr th {\n",
       "        vertical-align: top;\n",
       "    }\n",
       "\n",
       "    .dataframe thead th {\n",
       "        text-align: right;\n",
       "    }\n",
       "</style>\n",
       "<table border=\"1\" class=\"dataframe\">\n",
       "  <thead>\n",
       "    <tr style=\"text-align: right;\">\n",
       "      <th></th>\n",
       "      <th>Product_Name</th>\n",
       "      <th>Price</th>\n",
       "      <th>City_Shop</th>\n",
       "      <th>Sold</th>\n",
       "      <th>Rating</th>\n",
       "      <th>Review</th>\n",
       "    </tr>\n",
       "  </thead>\n",
       "  <tbody>\n",
       "    <tr>\n",
       "      <th>0</th>\n",
       "      <td>SEPATU OLAHRAGA VOLI BASKET TENIS BADMINTON LA...</td>\n",
       "      <td>Rp185,800</td>\n",
       "      <td>Kab. Tangerang</td>\n",
       "      <td>None</td>\n",
       "      <td>NaN</td>\n",
       "      <td>None</td>\n",
       "    </tr>\n",
       "    <tr>\n",
       "      <th>1</th>\n",
       "      <td>PUMA Sepatu Lari Slip-on Softride Astro</td>\n",
       "      <td>Rp209,099</td>\n",
       "      <td>Kota Jakarta Pusat</td>\n",
       "      <td>None</td>\n",
       "      <td>NaN</td>\n",
       "      <td>None</td>\n",
       "    </tr>\n",
       "    <tr>\n",
       "      <th>2</th>\n",
       "      <td>Ortuszeight Sepatu Running Hyperglidee 3.1 Whi...</td>\n",
       "      <td>Rp137,000</td>\n",
       "      <td>Kota Palembang</td>\n",
       "      <td>None</td>\n",
       "      <td>NaN</td>\n",
       "      <td>None</td>\n",
       "    </tr>\n",
       "    <tr>\n",
       "      <th>3</th>\n",
       "      <td>sepatu olahraga lari hyperblast 2.1 running</td>\n",
       "      <td>Rp152,000</td>\n",
       "      <td>Kab. Tangerang</td>\n",
       "      <td>5 sold</td>\n",
       "      <td>5.0</td>\n",
       "      <td>(2)</td>\n",
       "    </tr>\n",
       "    <tr>\n",
       "      <th>4</th>\n",
       "      <td>(TERLARIS) ORTUSEIGHT HYPERGLIDE 2.0-SEPATU OL...</td>\n",
       "      <td>Rp20,000</td>\n",
       "      <td>Kab. Tangerang</td>\n",
       "      <td>125 sold</td>\n",
       "      <td>4.9</td>\n",
       "      <td>(68)</td>\n",
       "    </tr>\n",
       "    <tr>\n",
       "      <th>...</th>\n",
       "      <td>...</td>\n",
       "      <td>...</td>\n",
       "      <td>...</td>\n",
       "      <td>...</td>\n",
       "      <td>...</td>\n",
       "      <td>...</td>\n",
       "    </tr>\n",
       "    <tr>\n",
       "      <th>395</th>\n",
       "      <td>Ortuseight running shoes sports ortuseight sne...</td>\n",
       "      <td>Rp130,000</td>\n",
       "      <td>Kab. Tangerang</td>\n",
       "      <td>25 sold</td>\n",
       "      <td>5.0</td>\n",
       "      <td>(3)</td>\n",
       "    </tr>\n",
       "    <tr>\n",
       "      <th>396</th>\n",
       "      <td>Celana Training Panjang Dewasa Pria Murah Olah...</td>\n",
       "      <td>Rp25,500</td>\n",
       "      <td>Kab. Cirebon</td>\n",
       "      <td>6 sold</td>\n",
       "      <td>NaN</td>\n",
       "      <td>None</td>\n",
       "    </tr>\n",
       "    <tr>\n",
       "      <th>397</th>\n",
       "      <td>SP32 Sepatu olahraga pria cowok cowo sekolah s...</td>\n",
       "      <td>Rp29,500</td>\n",
       "      <td>Kab. Bogor</td>\n",
       "      <td>None</td>\n",
       "      <td>5.0</td>\n",
       "      <td>(1)</td>\n",
       "    </tr>\n",
       "    <tr>\n",
       "      <th>398</th>\n",
       "      <td>S41 Sepatu olahraga pria cowok cowo sekolah sp...</td>\n",
       "      <td>Rp29,500</td>\n",
       "      <td>Kab. Bogor</td>\n",
       "      <td>None</td>\n",
       "      <td>NaN</td>\n",
       "      <td>None</td>\n",
       "    </tr>\n",
       "    <tr>\n",
       "      <th>399</th>\n",
       "      <td>PALING LARIS!!!Sepatu Lari Hoka Mach 6 Wanita ...</td>\n",
       "      <td>Rp61,000</td>\n",
       "      <td>Kab. Tangerang</td>\n",
       "      <td>None</td>\n",
       "      <td>5.0</td>\n",
       "      <td>(0)</td>\n",
       "    </tr>\n",
       "  </tbody>\n",
       "</table>\n",
       "<p>400 rows × 6 columns</p>\n",
       "</div>"
      ],
      "text/plain": [
       "                                          Product_Name      Price  \\\n",
       "0    SEPATU OLAHRAGA VOLI BASKET TENIS BADMINTON LA...  Rp185,800   \n",
       "1              PUMA Sepatu Lari Slip-on Softride Astro  Rp209,099   \n",
       "2    Ortuszeight Sepatu Running Hyperglidee 3.1 Whi...  Rp137,000   \n",
       "3          sepatu olahraga lari hyperblast 2.1 running  Rp152,000   \n",
       "4    (TERLARIS) ORTUSEIGHT HYPERGLIDE 2.0-SEPATU OL...   Rp20,000   \n",
       "..                                                 ...        ...   \n",
       "395  Ortuseight running shoes sports ortuseight sne...  Rp130,000   \n",
       "396  Celana Training Panjang Dewasa Pria Murah Olah...   Rp25,500   \n",
       "397  SP32 Sepatu olahraga pria cowok cowo sekolah s...   Rp29,500   \n",
       "398  S41 Sepatu olahraga pria cowok cowo sekolah sp...   Rp29,500   \n",
       "399  PALING LARIS!!!Sepatu Lari Hoka Mach 6 Wanita ...   Rp61,000   \n",
       "\n",
       "              City_Shop      Sold  Rating Review  \n",
       "0        Kab. Tangerang      None     NaN   None  \n",
       "1    Kota Jakarta Pusat      None     NaN   None  \n",
       "2        Kota Palembang      None     NaN   None  \n",
       "3        Kab. Tangerang    5 sold     5.0    (2)  \n",
       "4        Kab. Tangerang  125 sold     4.9   (68)  \n",
       "..                  ...       ...     ...    ...  \n",
       "395      Kab. Tangerang   25 sold     5.0    (3)  \n",
       "396        Kab. Cirebon    6 sold     NaN   None  \n",
       "397          Kab. Bogor      None     5.0    (1)  \n",
       "398          Kab. Bogor      None     NaN   None  \n",
       "399      Kab. Tangerang      None     5.0    (0)  \n",
       "\n",
       "[400 rows x 6 columns]"
      ]
     },
     "metadata": {},
     "output_type": "display_data"
    }
   ],
   "source": [
    "# import packages\n",
    "from selenium import webdriver\n",
    "from bs4 import BeautifulSoup\n",
    "import pandas as pd\n",
    "import time\n",
    "\n",
    "# initialize selenium browser - Chrome\n",
    "driver = webdriver.Chrome()\n",
    "\n",
    "# initialize DataFrame\n",
    "df = pd.DataFrame()\n",
    "\n",
    "# prepare temp list for storing all team names\n",
    "Product_Name = []\n",
    "Price = []\n",
    "City_Shop = []\n",
    "Sold = []\n",
    "Rating = []\n",
    "Review = []\n",
    "\n",
    "# Rating Map, fungsi ini digunakan dikarenakan untuk rating di LAZADA menggunakan icon Star\n",
    "rating_map = {\n",
    "    'Dy1nx': 1.0,\n",
    "    'JhD+v': 0.9,\n",
    "    'K8PID': 0.8,\n",
    "    'i6t3-': 0.7,\n",
    "    '+5T4q': 0.6,\n",
    "    'fqfC4': 0.5,\n",
    "    'TZlP8': 0.3,\n",
    "    'yWGJ-': 0.2,\n",
    "    'W1iJ5': 0.0\n",
    "}\n",
    "\n",
    "# A for loop is used in this script to iterate through multiple pages on Tokopedia, specifically from page 1 to 10\n",
    "for pagenum in range(1, 11):\n",
    "    # define target url\n",
    "    url = f\"https://www.lazada.co.id/catalog/?page={pagenum}&q=sepatu%20lari&spm=a2o4j.searchlist.search.d_go.7be62626h29nRl\"\n",
    "    \n",
    "    # tell the browser to open the web page\n",
    "    driver.get(url)\n",
    "\n",
    "    # beri waktu ekstra (opsional)\n",
    "    time.sleep(5)\n",
    "\n",
    "    # extracting html from the page - in strings\n",
    "    html = driver.page_source\n",
    "\n",
    "    # convert html string to BeautifulSoup object\n",
    "    soup = BeautifulSoup(html, \"html.parser\")\n",
    "\n",
    "    # find td elements\n",
    "    result = soup.find_all('div', {\"class\":\"Ms6aG MefHh\"})\n",
    "\n",
    "    # because the result is in list, we can use loop to process each elements\n",
    "    for div_element in result:\n",
    "        name = div_element.find('div', {\"class\": \"RfADt\"})\n",
    "        harga = div_element.find('span', {\"class\": \"ooOxS\"})\n",
    "        toko = div_element.find('span', {\"class\": \"oa6ri\"})\n",
    "        terjual = div_element.find('span', {\"class\": \"_1cEkb\"})\n",
    "        rate = div_element.find('div', {\"class\": \"mdmmT _32vUv\"})\n",
    "        komen = div_element.find('span', {\"class\": \"qzqFw\"})\n",
    "\n",
    "        if name != None:\n",
    "            Product_Name.append(name.get_text().strip())\n",
    "        else:\n",
    "            Product_Name.append(None)\n",
    "\n",
    "        if harga != None:\n",
    "            Price.append(harga.get_text().strip())\n",
    "        else:\n",
    "            Price.append(None)\n",
    "\n",
    "        if toko != None:\n",
    "            City_Shop.append(toko.get_text().strip())\n",
    "        else:\n",
    "            City_Shop.append(None)\n",
    "\n",
    "        if terjual != None:\n",
    "            Sold.append(terjual.get_text().strip())\n",
    "        else:\n",
    "            Sold.append(None)\n",
    "\n",
    "        if rate:\n",
    "            stars = rate.find_all('i')\n",
    "            total = 0\n",
    "            for star in stars:\n",
    "                classes = star.get('class', [])\n",
    "                for cls in classes:\n",
    "                    if cls != '_9-ogB' and cls in rating_map:\n",
    "                        total += rating_map[cls]\n",
    "                        break\n",
    "            Rating.append(round(total, 1))\n",
    "        else:\n",
    "            Rating.append(None)\n",
    "\n",
    "        if komen != None:\n",
    "            Review.append(komen.get_text().strip())\n",
    "        else:\n",
    "            Review.append(None)\n",
    "        \n",
    "\n",
    "\n",
    "# close the browser session\n",
    "driver.quit()\n",
    "\n",
    "df['Product_Name'] = Product_Name\n",
    "df['Price'] = Price\n",
    "df['City_Shop'] = City_Shop\n",
    "df['Sold'] = Sold\n",
    "df['Rating'] = Rating\n",
    "df['Review'] = Review\n",
    "\n",
    "display(df)\n",
    "\n",
    "# Note \n",
    "# Khusus Query \"if rate : stars\" diatas menggunakan referensi AI"
   ]
  },
  {
   "cell_type": "code",
   "execution_count": null,
   "id": "c8e44aec",
   "metadata": {},
   "outputs": [],
   "source": [
    "# Fungsi ini digunakan untuk melakukan penyimpanan file mentah hasil scraping ke csv\n",
    "df.to_csv('Running_Shoes_Lazada.csv')"
   ]
  },
  {
   "cell_type": "markdown",
   "id": "d91b5ba3",
   "metadata": {},
   "source": [
    "Setelah melalui proses scraping dengan time sleep (5) dengan mengambil 10 slide, maka didapat hasil 400 rows dengan 6 columns. Langkah selanjutnya dilakukan ekplorasi data sederhana agar didapatkan data yang sesuai dengan yang diinginkan.\n",
    "\n",
    "---"
   ]
  },
  {
   "cell_type": "markdown",
   "id": "5091ac39",
   "metadata": {},
   "source": [
    "### B. Langkah selanjutnya melakukan eksplorasi data sederhana"
   ]
  },
  {
   "cell_type": "code",
   "execution_count": null,
   "id": "e35ddfaf",
   "metadata": {},
   "outputs": [
    {
     "name": "stdout",
     "output_type": "stream",
     "text": [
      "<class 'pandas.core.frame.DataFrame'>\n",
      "RangeIndex: 400 entries, 0 to 399\n",
      "Data columns (total 6 columns):\n",
      " #   Column        Non-Null Count  Dtype  \n",
      "---  ------        --------------  -----  \n",
      " 0   Product_Name  400 non-null    object \n",
      " 1   Price         400 non-null    object \n",
      " 2   City_Shop     400 non-null    object \n",
      " 3   Sold          267 non-null    object \n",
      " 4   Rating        297 non-null    float64\n",
      " 5   Review        297 non-null    object \n",
      "dtypes: float64(1), object(5)\n",
      "memory usage: 18.9+ KB\n"
     ]
    }
   ],
   "source": [
    "# Fungsi ini digunakan untuk melihat info nama kolom, data null, dan data type hasil scraping\n",
    "df.info()"
   ]
  },
  {
   "cell_type": "markdown",
   "id": "3e7b9a89",
   "metadata": {},
   "source": [
    "Dari hasil diatas, maka dapat dilihat data yang berhasil diambil adalah 400, dan ada 6 kolom, lalu terlihat data non null, dan data type yang dihasilkan.\n",
    "\n",
    "---"
   ]
  },
  {
   "cell_type": "code",
   "execution_count": null,
   "id": "0e87c2cd",
   "metadata": {},
   "outputs": [
    {
     "data": {
      "text/plain": [
       "Product_Name      0\n",
       "Price             0\n",
       "City_Shop         0\n",
       "Sold            133\n",
       "Rating          103\n",
       "Review          103\n",
       "dtype: int64"
      ]
     },
     "execution_count": 4,
     "metadata": {},
     "output_type": "execute_result"
    }
   ],
   "source": [
    "# Fungsi ini digunakan untuk melihat data null yang ada di setiap kolom\n",
    "df.isnull().sum()"
   ]
  },
  {
   "cell_type": "markdown",
   "id": "ebf3a43f",
   "metadata": {},
   "source": [
    "Dari hasil diatas, maka dapat dilihat bahwa data khususnys kolom sold, rating, dan review masih ada data null yang dihasilkan, dan kolom lainnya tidak ada data null, ini menandakan bahwa ada beberapa produk yang belum ada data terjual, rating, review, karena kosong.\n",
    "\n",
    "---"
   ]
  },
  {
   "cell_type": "code",
   "execution_count": null,
   "id": "f103ef7e",
   "metadata": {},
   "outputs": [
    {
     "data": {
      "text/plain": [
       "Product_Name    353\n",
       "Price           253\n",
       "City_Shop        28\n",
       "Sold            133\n",
       "Rating           21\n",
       "Review           93\n",
       "dtype: int64"
      ]
     },
     "execution_count": 5,
     "metadata": {},
     "output_type": "execute_result"
    }
   ],
   "source": [
    "# Fungsi ini untuk digunakan untuk menghitung jumlah nilai unik (distinct) di setiap kolom (atau baris) dalam data\n",
    "df.nunique()"
   ]
  },
  {
   "cell_type": "markdown",
   "id": "76d0b259",
   "metadata": {},
   "source": [
    "### C. Langkah dibawah ini untuk menghilangkan kata yang tidak perlau di kolom price dll, dan melakukan perubahan data type"
   ]
  },
  {
   "cell_type": "code",
   "execution_count": 18,
   "id": "dc7c9ef7",
   "metadata": {},
   "outputs": [],
   "source": [
    "# Fungsi dibawah ini untuk menghilangkan tanda (Rp) di kolom Price dan (K) di dalam kolom SOLD karena terdapat dua jenis data, agar data yang dihasilkan bersih dan sesuai\n",
    "\n",
    "df['Price'] = df['Price'].str.replace('Rp','').str.replace(',','').str.replace('.','').astype(int)"
   ]
  },
  {
   "cell_type": "code",
   "execution_count": 19,
   "id": "d9c26b6b",
   "metadata": {},
   "outputs": [],
   "source": [
    "df['Sold'] = df['Sold'].str.replace('sold','').str.strip()"
   ]
  },
  {
   "cell_type": "code",
   "execution_count": 20,
   "id": "11dbd09a",
   "metadata": {},
   "outputs": [],
   "source": [
    "# Fungsi dibawah ini untuk menghilangkan tanda (.) dan (K) di dalam kolom SOLD karena terdapat dua jenis data, agar data yang dihasilkan bersih dan sesuai\n",
    "\n",
    "def change_sold(value):\n",
    "    if pd.isna(value):\n",
    "        return 0\n",
    "    value = str(value).replace('.', '').strip()\n",
    "    if 'K' in value:\n",
    "        return int(float(value.replace('K', '')) * 100)\n",
    "    else:\n",
    "        return int(float(value))\n",
    "\n",
    "\n",
    "df['Sold'] = df['Sold'].apply(change_sold)\n",
    "\n",
    "# Beberapa Query diatas menggunakan referensi AI"
   ]
  },
  {
   "cell_type": "code",
   "execution_count": 21,
   "id": "a599a645",
   "metadata": {},
   "outputs": [],
   "source": [
    "# Fungsi ini digunakan untuk menghilangkan tanda dalam kurung di dalam kolom review\n",
    "df['Review'] = df['Review'].str.replace('(','').str.replace(')','')"
   ]
  },
  {
   "cell_type": "code",
   "execution_count": 22,
   "id": "effac1ba",
   "metadata": {},
   "outputs": [],
   "source": [
    "# Fungsi ini digunakan untuk mengubah data NaN menjadi angka 0 dan mengubah tipe data menjadi Integer, agar sesuai dengan hasil yang diinginkan\n",
    "df['Review'] = df['Review'].fillna(0)\n",
    "df['Review'] = df['Review'].astype(int)"
   ]
  },
  {
   "cell_type": "markdown",
   "id": "a2253826",
   "metadata": {},
   "source": [
    "Langkah selanjutnya melakukan pengecekan kembali data yang telah dilakukan perbaikan data, agar data yang dihasilkan sesuai yang diinginkan\n",
    "\n",
    "---"
   ]
  },
  {
   "cell_type": "code",
   "execution_count": 26,
   "id": "30c5a13d",
   "metadata": {},
   "outputs": [
    {
     "data": {
      "text/html": [
       "<div>\n",
       "<style scoped>\n",
       "    .dataframe tbody tr th:only-of-type {\n",
       "        vertical-align: middle;\n",
       "    }\n",
       "\n",
       "    .dataframe tbody tr th {\n",
       "        vertical-align: top;\n",
       "    }\n",
       "\n",
       "    .dataframe thead th {\n",
       "        text-align: right;\n",
       "    }\n",
       "</style>\n",
       "<table border=\"1\" class=\"dataframe\">\n",
       "  <thead>\n",
       "    <tr style=\"text-align: right;\">\n",
       "      <th></th>\n",
       "      <th>Product_Name</th>\n",
       "      <th>Price</th>\n",
       "      <th>City_Shop</th>\n",
       "      <th>Sold</th>\n",
       "      <th>Rating</th>\n",
       "      <th>Review</th>\n",
       "    </tr>\n",
       "  </thead>\n",
       "  <tbody>\n",
       "    <tr>\n",
       "      <th>0</th>\n",
       "      <td>SEPATU OLAHRAGA VOLI BASKET TENIS BADMINTON LA...</td>\n",
       "      <td>185800</td>\n",
       "      <td>Kab. Tangerang</td>\n",
       "      <td>0</td>\n",
       "      <td>NaN</td>\n",
       "      <td>0</td>\n",
       "    </tr>\n",
       "    <tr>\n",
       "      <th>1</th>\n",
       "      <td>PUMA Sepatu Lari Slip-on Softride Astro</td>\n",
       "      <td>209099</td>\n",
       "      <td>Kota Jakarta Pusat</td>\n",
       "      <td>0</td>\n",
       "      <td>NaN</td>\n",
       "      <td>0</td>\n",
       "    </tr>\n",
       "    <tr>\n",
       "      <th>2</th>\n",
       "      <td>Ortuszeight Sepatu Running Hyperglidee 3.1 Whi...</td>\n",
       "      <td>137000</td>\n",
       "      <td>Kota Palembang</td>\n",
       "      <td>0</td>\n",
       "      <td>NaN</td>\n",
       "      <td>0</td>\n",
       "    </tr>\n",
       "    <tr>\n",
       "      <th>3</th>\n",
       "      <td>sepatu olahraga lari hyperblast 2.1 running</td>\n",
       "      <td>152000</td>\n",
       "      <td>Kab. Tangerang</td>\n",
       "      <td>5</td>\n",
       "      <td>5.0</td>\n",
       "      <td>2</td>\n",
       "    </tr>\n",
       "    <tr>\n",
       "      <th>4</th>\n",
       "      <td>(TERLARIS) ORTUSEIGHT HYPERGLIDE 2.0-SEPATU OL...</td>\n",
       "      <td>20000</td>\n",
       "      <td>Kab. Tangerang</td>\n",
       "      <td>125</td>\n",
       "      <td>4.9</td>\n",
       "      <td>68</td>\n",
       "    </tr>\n",
       "  </tbody>\n",
       "</table>\n",
       "</div>"
      ],
      "text/plain": [
       "                                        Product_Name   Price  \\\n",
       "0  SEPATU OLAHRAGA VOLI BASKET TENIS BADMINTON LA...  185800   \n",
       "1            PUMA Sepatu Lari Slip-on Softride Astro  209099   \n",
       "2  Ortuszeight Sepatu Running Hyperglidee 3.1 Whi...  137000   \n",
       "3        sepatu olahraga lari hyperblast 2.1 running  152000   \n",
       "4  (TERLARIS) ORTUSEIGHT HYPERGLIDE 2.0-SEPATU OL...   20000   \n",
       "\n",
       "            City_Shop  Sold  Rating  Review  \n",
       "0      Kab. Tangerang     0     NaN       0  \n",
       "1  Kota Jakarta Pusat     0     NaN       0  \n",
       "2      Kota Palembang     0     NaN       0  \n",
       "3      Kab. Tangerang     5     5.0       2  \n",
       "4      Kab. Tangerang   125     4.9      68  "
      ]
     },
     "execution_count": 26,
     "metadata": {},
     "output_type": "execute_result"
    }
   ],
   "source": [
    "df.head()"
   ]
  },
  {
   "cell_type": "code",
   "execution_count": 29,
   "id": "a229bd77",
   "metadata": {},
   "outputs": [
    {
     "name": "stdout",
     "output_type": "stream",
     "text": [
      "<class 'pandas.core.frame.DataFrame'>\n",
      "RangeIndex: 400 entries, 0 to 399\n",
      "Data columns (total 6 columns):\n",
      " #   Column        Non-Null Count  Dtype  \n",
      "---  ------        --------------  -----  \n",
      " 0   Product_Name  400 non-null    object \n",
      " 1   Price         400 non-null    int64  \n",
      " 2   City_Shop     400 non-null    object \n",
      " 3   Sold          400 non-null    int64  \n",
      " 4   Rating        297 non-null    float64\n",
      " 5   Review        400 non-null    int64  \n",
      "dtypes: float64(1), int64(3), object(2)\n",
      "memory usage: 18.9+ KB\n"
     ]
    }
   ],
   "source": [
    "df.info()"
   ]
  },
  {
   "cell_type": "markdown",
   "id": "2eeccc38",
   "metadata": {},
   "source": [
    "Dari hasil pengecekan diatas, telah berhasil dilakukan perbaikan :\n",
    "1. kolom Price yaitu data yang dihasilkan hanya menampilkan angka saja.\n",
    "2. kolom Sold jenis data yang ditampilkan hanya angka saja dan data kosong diisi dengan angka 0.\n",
    "3. kolom Review tanpa tanda kurung dan data kosong diisi dengan angka 0. \n",
    "4. Masing masing kolom telah diganti tipe datanya sesuai dengan isi kolom.\n",
    "\n",
    "---"
   ]
  },
  {
   "cell_type": "markdown",
   "id": "ae818cdb",
   "metadata": {},
   "source": [
    "File yang telah dilakukan eksplorasi data dan perbaikan data disimpan kembali ke dalam file .csv"
   ]
  },
  {
   "cell_type": "code",
   "execution_count": 31,
   "id": "866ea192",
   "metadata": {},
   "outputs": [],
   "source": [
    "df.to_csv('Running_Shoes_Lazada_done.csv')"
   ]
  },
  {
   "cell_type": "markdown",
   "id": "016260c1",
   "metadata": {},
   "source": [
    "Referensi\n",
    "1. Materi dan Pembelajaran Hacktiv8\n",
    "2. Lazada.co.id\n",
    "3. Stackoverflow\n",
    "4. ChatGPT\n",
    "5. Channel Youtube \"iKEEP OnTrack\" "
   ]
  }
 ],
 "metadata": {
  "kernelspec": {
   "display_name": "base",
   "language": "python",
   "name": "python3"
  },
  "language_info": {
   "codemirror_mode": {
    "name": "ipython",
    "version": 3
   },
   "file_extension": ".py",
   "mimetype": "text/x-python",
   "name": "python",
   "nbconvert_exporter": "python",
   "pygments_lexer": "ipython3",
   "version": "3.13.2"
  }
 },
 "nbformat": 4,
 "nbformat_minor": 5
}
